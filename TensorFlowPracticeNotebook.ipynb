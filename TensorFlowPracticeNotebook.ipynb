{
 "cells": [
  {
   "cell_type": "code",
   "execution_count": 2,
   "metadata": {
    "collapsed": true
   },
   "outputs": [],
   "source": [
    "from __future__ import print_function\n",
    "import tensorflow as tf"
   ]
  },
  {
   "cell_type": "code",
   "execution_count": 3,
   "metadata": {
    "collapsed": false
   },
   "outputs": [
    {
     "name": "stdout",
     "output_type": "stream",
     "text": [
      "Tensor(\"Const:0\", shape=(), dtype=float32) Tensor(\"Const_1:0\", shape=(), dtype=float32)\n"
     ]
    }
   ],
   "source": [
    "# Make 'constant' nodes: no input, constant output.\n",
    "\n",
    "node1 = tf.constant(3.0, dtype=tf.float32)\n",
    "node2 = tf.constant(4.0) # also tf.float32 implicitly\n",
    "print(node1, node2)"
   ]
  },
  {
   "cell_type": "code",
   "execution_count": 4,
   "metadata": {
    "collapsed": false
   },
   "outputs": [
    {
     "name": "stdout",
     "output_type": "stream",
     "text": [
      "[3.0, 4.0]\n"
     ]
    }
   ],
   "source": [
    "# To get output must run session\n",
    "\n",
    "sess = tf.Session()\n",
    "print(sess.run([node1, node2]))"
   ]
  },
  {
   "cell_type": "code",
   "execution_count": 5,
   "metadata": {
    "collapsed": false
   },
   "outputs": [
    {
     "name": "stdout",
     "output_type": "stream",
     "text": [
      "node3: Tensor(\"Add:0\", shape=(), dtype=float32)\n",
      "sess.run(node3): 7.0\n"
     ]
    }
   ],
   "source": [
    "node3 = tf.add(node1, node2)\n",
    "print(\"node3:\", node3)\n",
    "print(\"sess.run(node3):\", sess.run(node3))"
   ]
  },
  {
   "cell_type": "code",
   "execution_count": 6,
   "metadata": {
    "collapsed": false
   },
   "outputs": [],
   "source": [
    "a = tf.placeholder(tf.float32)\n",
    "b = tf.placeholder(tf.float32)\n",
    "adder_node = tf.add(a,b)"
   ]
  },
  {
   "cell_type": "code",
   "execution_count": 8,
   "metadata": {
    "collapsed": false
   },
   "outputs": [
    {
     "data": {
      "text/plain": [
       "3.0"
      ]
     },
     "execution_count": 8,
     "metadata": {},
     "output_type": "execute_result"
    }
   ],
   "source": [
    "subtractor_node = tf.subtract(a,b)\n",
    "sess.run(subtractor_node,{a:5,b:2})"
   ]
  },
  {
   "cell_type": "code",
   "execution_count": 10,
   "metadata": {
    "collapsed": false
   },
   "outputs": [
    {
     "data": {
      "text/plain": [
       "150.0"
      ]
     },
     "execution_count": 10,
     "metadata": {},
     "output_type": "execute_result"
    }
   ],
   "source": [
    "sess.run(tf.multiply(a,b),{a:50,b:3})"
   ]
  },
  {
   "cell_type": "code",
   "execution_count": 9,
   "metadata": {
    "collapsed": false
   },
   "outputs": [
    {
     "name": "stdout",
     "output_type": "stream",
     "text": [
      "7.5\n"
     ]
    }
   ],
   "source": [
    "# adding 1 dimensional outputs\n",
    "print(sess.run(adder_node, {a: 3, b: 4.5}))"
   ]
  },
  {
   "cell_type": "code",
   "execution_count": 8,
   "metadata": {
    "collapsed": false
   },
   "outputs": [
    {
     "name": "stdout",
     "output_type": "stream",
     "text": [
      "7.5\n"
     ]
    }
   ],
   "source": [
    "# NB don't need to pre-define adder node, but a and b must be already\n",
    "print(sess.run(tf.add(a,b), {a: 3, b: 4.5}))"
   ]
  },
  {
   "cell_type": "code",
   "execution_count": 9,
   "metadata": {
    "collapsed": false
   },
   "outputs": [
    {
     "name": "stdout",
     "output_type": "stream",
     "text": [
      "[ 3.  7.]\n"
     ]
    }
   ],
   "source": [
    "# adding 2 dimensional outputs \n",
    "print(sess.run(adder_node, {a: [1, 3], b: [2, 4]}))"
   ]
  },
  {
   "cell_type": "code",
   "execution_count": 10,
   "metadata": {
    "collapsed": false
   },
   "outputs": [
    {
     "name": "stdout",
     "output_type": "stream",
     "text": [
      "22.5\n"
     ]
    }
   ],
   "source": [
    "add_and_triple = adder_node * 3.\n",
    "print(sess.run(add_and_triple, {a: 3, b: 4.5}))"
   ]
  },
  {
   "cell_type": "code",
   "execution_count": 18,
   "metadata": {
    "collapsed": true
   },
   "outputs": [],
   "source": [
    "c = tf.placeholder(tf.float32)\n",
    "multiplier_node = adder_node*cw"
   ]
  },
  {
   "cell_type": "code",
   "execution_count": 19,
   "metadata": {
    "collapsed": false
   },
   "outputs": [
    {
     "name": "stdout",
     "output_type": "stream",
     "text": [
      "21.0\n"
     ]
    }
   ],
   "source": [
    "print(sess.run(multiplier_node,{a:5,b:2, c:3}))"
   ]
  },
  {
   "cell_type": "code",
   "execution_count": 11,
   "metadata": {
    "collapsed": true
   },
   "outputs": [],
   "source": [
    "# Variables allow arbitary inputs. \n",
    "#Are not initialised when tf.Variable is called\n",
    "W = tf.Variable([.3], dtype=tf.float32)\n",
    "b = tf.Variable([-.3], dtype=tf.float32)\n",
    "x = tf.placeholder(tf.float32)\n",
    "linear_model = W*x + b"
   ]
  },
  {
   "cell_type": "code",
   "execution_count": 12,
   "metadata": {
    "collapsed": true
   },
   "outputs": [],
   "source": [
    "# Initialising all var's in TF program\n",
    "init = tf.global_variables_initializer()\n",
    "sess.run(init)"
   ]
  },
  {
   "cell_type": "code",
   "execution_count": 13,
   "metadata": {
    "collapsed": false
   },
   "outputs": [
    {
     "name": "stdout",
     "output_type": "stream",
     "text": [
      "[ 0.          0.30000001  0.60000002  0.90000004]\n"
     ]
    }
   ],
   "source": [
    "# x is a placeholder; can eval linear_model for several values\n",
    "# get the previously-initialised tf session to run this, with some inputs\n",
    "print(sess.run(linear_model, {x: [1, 2, 3, 4]}))"
   ]
  },
  {
   "cell_type": "code",
   "execution_count": 14,
   "metadata": {
    "collapsed": false
   },
   "outputs": [
    {
     "name": "stdout",
     "output_type": "stream",
     "text": [
      "23.66\n"
     ]
    }
   ],
   "source": [
    "# make placeholder for true labels. \n",
    "y = tf.placeholder(tf.float32)\n",
    "# define a function using previously defined 'linear model' function and y variable\n",
    "squared_deltas = tf.square(linear_model - y)\n",
    "# tf function that takes an input tensor\n",
    "loss = tf.reduce_sum(squared_deltas) \n",
    "# get the previously-initialised tf session to run this, with some inputs\n",
    "# ie takes x, does linear_model on this. then squared_deltas on its output and y. Then loss on that.\n",
    "print(sess.run(loss, {x: [1, 2, 3, 4], y: [0, -1, -2, -3]}))"
   ]
  },
  {
   "cell_type": "code",
   "execution_count": 15,
   "metadata": {
    "collapsed": false
   },
   "outputs": [
    {
     "name": "stdout",
     "output_type": "stream",
     "text": [
      "0.0\n"
     ]
    }
   ],
   "source": [
    "# tf.Variable initialises tf variables.\n",
    "# tf.assign takes two arguments: name and value, and reassigns the value to that name\n",
    "# this then is run by the session\n",
    "fixW = tf.assign(W, [-1.])\n",
    "fixb = tf.assign(b, [1.])\n",
    "sess.run([fixW, fixb])\n",
    "print(sess.run(loss, {x: [1, 2, 3, 4], y: [0, -1, -2, -3]}))"
   ]
  },
  {
   "cell_type": "markdown",
   "metadata": {
    "collapsed": true
   },
   "source": [
    "Training optimisers to minimise loss function - compute deriv's using tf.gradients"
   ]
  },
  {
   "cell_type": "code",
   "execution_count": 27,
   "metadata": {
    "collapsed": true
   },
   "outputs": [],
   "source": [
    "optimizer = tf.train.GradientDescentOptimizer(0.01)\n",
    "\n",
    "# loss is calculated from squared_deltas, which uses linear model and x and y\n",
    "# .minimize does one iteration of reduction\n",
    "train = optimizer.minimize(loss)"
   ]
  },
  {
   "cell_type": "markdown",
   "metadata": {},
   "source": [
    "10 iterations... each time, run 'train' on feature values x and outputs y.\n",
    "\n",
    "'train' minimises 'loss' which is calculated from 'squared deltas'\n",
    "\n",
    "..which is calculated from linear model on x, and y"
   ]
  },
  {
   "cell_type": "code",
   "execution_count": 28,
   "metadata": {
    "collapsed": false
   },
   "outputs": [
    {
     "name": "stdout",
     "output_type": "stream",
     "text": [
      "[array([-0.9999969], dtype=float32), array([ 0.99999082], dtype=float32)]\n"
     ]
    }
   ],
   "source": [
    "sess.run(init) # reset values to incorrect defaults.\n",
    "for i in range(1000):\n",
    "  sess.run(train, {x: [1, 2, 3, 4], y: [0, -1, -2, -3]})\n",
    "#   print (sess.run([W, b]))\n",
    "    \n",
    "print(sess.run([W, b]))"
   ]
  },
  {
   "cell_type": "markdown",
   "metadata": {
    "collapsed": true
   },
   "source": [
    "## Complete program"
   ]
  },
  {
   "cell_type": "code",
   "execution_count": 29,
   "metadata": {
    "collapsed": false
   },
   "outputs": [
    {
     "name": "stdout",
     "output_type": "stream",
     "text": [
      "W: [-0.9999969] b: [ 0.99999082] loss: 5.69997e-11\n"
     ]
    }
   ],
   "source": [
    "import tensorflow as tf\n",
    "\n",
    "# Model parameters\n",
    "W = tf.Variable([.3], dtype=tf.float32)\n",
    "b = tf.Variable([-.3], dtype=tf.float32)\n",
    "# Model input and output\n",
    "x = tf.placeholder(tf.float32)\n",
    "linear_model = W*x + b\n",
    "y = tf.placeholder(tf.float32)\n",
    "\n",
    "# loss\n",
    "loss = tf.reduce_sum(tf.square(linear_model - y)) # sum of the squares\n",
    "# optimizer\n",
    "optimizer = tf.train.GradientDescentOptimizer(0.01)\n",
    "train = optimizer.minimize(loss)\n",
    "\n",
    "# training data\n",
    "x_train = [1, 2, 3, 4]\n",
    "y_train = [0, -1, -2, -3]\n",
    "# training loop\n",
    "init = tf.global_variables_initializer()\n",
    "sess = tf.Session()\n",
    "sess.run(init) # reset values to wrong\n",
    "for i in range(1000):\n",
    "  sess.run(train, {x: x_train, y: y_train})\n",
    "\n",
    "# evaluate training accuracy\n",
    "curr_W, curr_b, curr_loss = sess.run([W, b, loss], {x: x_train, y: y_train})\n",
    "print(\"W: %s b: %s loss: %s\"%(curr_W, curr_b, curr_loss))"
   ]
  },
  {
   "cell_type": "markdown",
   "metadata": {},
   "source": [
    "# Tensorflow estimator\n",
    "\n",
    "### high level library runnign training/eval loops, manage datasets"
   ]
  },
  {
   "cell_type": "code",
   "execution_count": 30,
   "metadata": {
    "collapsed": false
   },
   "outputs": [
    {
     "name": "stdout",
     "output_type": "stream",
     "text": [
      "INFO:tensorflow:Using default config.\n",
      "WARNING:tensorflow:Using temporary folder as model directory: /var/folders/rf/hjjjk251633cl8pln8zlkl5w000cm7/T/tmpc4dvkofn\n",
      "INFO:tensorflow:Using config: {'_session_config': None, '_save_checkpoints_steps': None, '_tf_random_seed': None, '_log_step_count_steps': 100, '_keep_checkpoint_max': 5, '_service': None, '_is_chief': True, '_save_summary_steps': 100, '_task_id': 0, '_task_type': 'worker', '_num_worker_replicas': 1, '_model_dir': '/var/folders/rf/hjjjk251633cl8pln8zlkl5w000cm7/T/tmpc4dvkofn', '_save_checkpoints_secs': 600, '_cluster_spec': <tensorflow.python.training.server_lib.ClusterSpec object at 0x11ba4ff98>, '_num_ps_replicas': 0, '_keep_checkpoint_every_n_hours': 10000, '_master': ''}\n",
      "INFO:tensorflow:Create CheckpointSaverHook.\n",
      "INFO:tensorflow:Saving checkpoints for 1 into /var/folders/rf/hjjjk251633cl8pln8zlkl5w000cm7/T/tmpc4dvkofn/model.ckpt.\n",
      "INFO:tensorflow:loss = 13.0, step = 1\n",
      "INFO:tensorflow:global_step/sec: 935.692\n",
      "INFO:tensorflow:loss = 0.181613, step = 101 (0.125 sec)\n",
      "INFO:tensorflow:global_step/sec: 971.129\n",
      "INFO:tensorflow:loss = 0.0900655, step = 201 (0.086 sec)\n",
      "INFO:tensorflow:global_step/sec: 1191.21\n",
      "INFO:tensorflow:loss = 0.0219403, step = 301 (0.084 sec)\n",
      "INFO:tensorflow:global_step/sec: 1197.36\n",
      "INFO:tensorflow:loss = 0.0029906, step = 401 (0.083 sec)\n",
      "INFO:tensorflow:global_step/sec: 1191.7\n",
      "INFO:tensorflow:loss = 0.000696747, step = 501 (0.084 sec)\n",
      "INFO:tensorflow:global_step/sec: 1188.72\n",
      "INFO:tensorflow:loss = 0.000157839, step = 601 (0.084 sec)\n",
      "INFO:tensorflow:global_step/sec: 1185.37\n",
      "INFO:tensorflow:loss = 2.70665e-05, step = 701 (0.084 sec)\n",
      "INFO:tensorflow:global_step/sec: 1181.11\n",
      "INFO:tensorflow:loss = 3.44868e-06, step = 801 (0.085 sec)\n",
      "INFO:tensorflow:global_step/sec: 1171.95\n",
      "INFO:tensorflow:loss = 2.24463e-06, step = 901 (0.085 sec)\n",
      "INFO:tensorflow:Saving checkpoints for 1000 into /var/folders/rf/hjjjk251633cl8pln8zlkl5w000cm7/T/tmpc4dvkofn/model.ckpt.\n",
      "INFO:tensorflow:Loss for final step: 1.64368e-07.\n",
      "INFO:tensorflow:Starting evaluation at 2017-11-23-17:12:38\n",
      "INFO:tensorflow:Restoring parameters from /var/folders/rf/hjjjk251633cl8pln8zlkl5w000cm7/T/tmpc4dvkofn/model.ckpt-1000\n",
      "INFO:tensorflow:Finished evaluation at 2017-11-23-17:12:39\n",
      "INFO:tensorflow:Saving dict for global step 1000: average_loss = 7.28299e-08, global_step = 1000, loss = 2.91319e-07\n",
      "INFO:tensorflow:Starting evaluation at 2017-11-23-17:12:40\n",
      "INFO:tensorflow:Restoring parameters from /var/folders/rf/hjjjk251633cl8pln8zlkl5w000cm7/T/tmpc4dvkofn/model.ckpt-1000\n",
      "INFO:tensorflow:Finished evaluation at 2017-11-23-17:12:41\n",
      "INFO:tensorflow:Saving dict for global step 1000: average_loss = 0.00255189, global_step = 1000, loss = 0.0102075\n",
      "train metrics: {'average_loss': 7.2829863e-08, 'loss': 2.9131945e-07, 'global_step': 1000}\n",
      "eval metrics: {'average_loss': 0.0025518863, 'loss': 0.010207545, 'global_step': 1000}\n"
     ]
    }
   ],
   "source": [
    "# NumPy is often used to load, manipulate and preprocess data.\n",
    "import numpy as np\n",
    "import tensorflow as tf\n",
    "\n",
    "# Declare list of features. We only have one numeric feature. There are many\n",
    "# other types of columns that are more complicated and useful.\n",
    "feature_columns = [tf.feature_column.numeric_column(\"x\", shape=[1])]\n",
    "\n",
    "# An estimator is the front end to invoke training (fitting) and evaluation\n",
    "# (inference). There are many predefined types like linear regression,\n",
    "# linear classification, and many neural network classifiers and regressors.\n",
    "# The following code provides an estimator that does linear regression.\n",
    "estimator = tf.estimator.LinearRegressor(feature_columns=feature_columns)\n",
    "\n",
    "# TensorFlow provides many helper methods to read and set up data sets.\n",
    "# Here we use two data sets: one for training and one for evaluation\n",
    "# We have to tell the function how many batches\n",
    "# of data (num_epochs) we want and how big each batch should be.\n",
    "x_train = np.array([1., 2., 3., 4.])\n",
    "y_train = np.array([0., -1., -2., -3.])\n",
    "x_eval = np.array([2., 5., 8., 1.])\n",
    "y_eval = np.array([-1.01, -4.1, -7, 0.])\n",
    "input_fn = tf.estimator.inputs.numpy_input_fn(\n",
    "    {\"x\": x_train}, y_train, batch_size=4, num_epochs=None, shuffle=True)\n",
    "train_input_fn = tf.estimator.inputs.numpy_input_fn(\n",
    "    {\"x\": x_train}, y_train, batch_size=4, num_epochs=1000, shuffle=False)\n",
    "eval_input_fn = tf.estimator.inputs.numpy_input_fn(\n",
    "    {\"x\": x_eval}, y_eval, batch_size=4, num_epochs=1000, shuffle=False)\n",
    "\n",
    "# We can invoke 1000 training steps by invoking the  method and passing the\n",
    "# training data set.\n",
    "estimator.train(input_fn=input_fn, steps=1000)\n",
    "\n",
    "# Here we evaluate how well our model did.\n",
    "train_metrics = estimator.evaluate(input_fn=train_input_fn)\n",
    "eval_metrics = estimator.evaluate(input_fn=eval_input_fn)\n",
    "print(\"train metrics: %r\"% train_metrics)\n",
    "print(\"eval metrics: %r\"% eval_metrics)"
   ]
  },
  {
   "cell_type": "code",
   "execution_count": 20,
   "metadata": {
    "collapsed": false
   },
   "outputs": [
    {
     "name": "stdout",
     "output_type": "stream",
     "text": [
      "INFO:tensorflow:Using default config.\n",
      "WARNING:tensorflow:Using temporary folder as model directory: /var/folders/rf/hjjjk251633cl8pln8zlkl5w000cm7/T/tmpcvf_3v1p\n",
      "INFO:tensorflow:Using config: {'_task_id': 0, '_num_worker_replicas': 1, '_master': '', '_save_checkpoints_steps': None, '_service': None, '_session_config': None, '_cluster_spec': <tensorflow.python.training.server_lib.ClusterSpec object at 0x11b148898>, '_task_type': 'worker', '_is_chief': True, '_keep_checkpoint_max': 5, '_keep_checkpoint_every_n_hours': 10000, '_model_dir': '/var/folders/rf/hjjjk251633cl8pln8zlkl5w000cm7/T/tmpcvf_3v1p', '_log_step_count_steps': 100, '_save_summary_steps': 100, '_tf_random_seed': None, '_save_checkpoints_secs': 600, '_num_ps_replicas': 0}\n",
      "INFO:tensorflow:Create CheckpointSaverHook.\n",
      "INFO:tensorflow:Saving checkpoints for 1 into /var/folders/rf/hjjjk251633cl8pln8zlkl5w000cm7/T/tmpcvf_3v1p/model.ckpt.\n",
      "INFO:tensorflow:loss = 28.7265313042, step = 1\n",
      "INFO:tensorflow:global_step/sec: 1083.93\n",
      "INFO:tensorflow:loss = 0.0681124619016, step = 101 (0.095 sec)\n",
      "INFO:tensorflow:global_step/sec: 1172.82\n",
      "INFO:tensorflow:loss = 0.031169101991, step = 201 (0.085 sec)\n",
      "INFO:tensorflow:global_step/sec: 1185.98\n",
      "INFO:tensorflow:loss = 0.00479992138766, step = 301 (0.085 sec)\n",
      "INFO:tensorflow:global_step/sec: 1201.15\n",
      "INFO:tensorflow:loss = 0.000130252263726, step = 401 (0.083 sec)\n",
      "INFO:tensorflow:global_step/sec: 1209.95\n",
      "INFO:tensorflow:loss = 3.00219222757e-05, step = 501 (0.082 sec)\n",
      "INFO:tensorflow:global_step/sec: 1180.34\n",
      "INFO:tensorflow:loss = 2.17229104265e-06, step = 601 (0.085 sec)\n",
      "INFO:tensorflow:global_step/sec: 1153.22\n",
      "INFO:tensorflow:loss = 2.34522418939e-07, step = 701 (0.086 sec)\n",
      "INFO:tensorflow:global_step/sec: 1155.16\n",
      "INFO:tensorflow:loss = 1.12662006234e-08, step = 801 (0.087 sec)\n",
      "INFO:tensorflow:global_step/sec: 1154.96\n",
      "INFO:tensorflow:loss = 1.43519282928e-09, step = 901 (0.087 sec)\n",
      "INFO:tensorflow:Saving checkpoints for 1000 into /var/folders/rf/hjjjk251633cl8pln8zlkl5w000cm7/T/tmpcvf_3v1p/model.ckpt.\n",
      "INFO:tensorflow:Loss for final step: 6.95182656533e-11.\n",
      "INFO:tensorflow:Starting evaluation at 2017-11-27-13:05:38\n",
      "INFO:tensorflow:Restoring parameters from /var/folders/rf/hjjjk251633cl8pln8zlkl5w000cm7/T/tmpcvf_3v1p/model.ckpt-1000\n",
      "INFO:tensorflow:Finished evaluation at 2017-11-27-13:05:38\n",
      "INFO:tensorflow:Saving dict for global step 1000: global_step = 1000, loss = 1.17806e-10\n",
      "INFO:tensorflow:Starting evaluation at 2017-11-27-13:05:39\n",
      "INFO:tensorflow:Restoring parameters from /var/folders/rf/hjjjk251633cl8pln8zlkl5w000cm7/T/tmpcvf_3v1p/model.ckpt-1000\n",
      "INFO:tensorflow:Finished evaluation at 2017-11-27-13:05:40\n",
      "INFO:tensorflow:Saving dict for global step 1000: global_step = 1000, loss = 0.0101013\n",
      "train metrics: {'loss': 1.1780628e-10, 'global_step': 1000}\n",
      "eval metrics: {'loss': 0.010101294, 'global_step': 1000}\n"
     ]
    }
   ],
   "source": [
    "import numpy as np\n",
    "import tensorflow as tf\n",
    "\n",
    "# Declare list of features, we only have one real-valued feature\n",
    "def model_fn(features, labels, mode):\n",
    "  # Build a linear model and predict values\n",
    "  W = tf.get_variable(\"W\", [1], dtype=tf.float64)\n",
    "  b = tf.get_variable(\"b\", [1], dtype=tf.float64)\n",
    "  y = W*features['x'] + b\n",
    "  # Loss sub-graph\n",
    "  loss = tf.reduce_sum(tf.square(y - labels))\n",
    "  # Training sub-graph\n",
    "  global_step = tf.train.get_global_step()\n",
    "  optimizer = tf.train.GradientDescentOptimizer(0.01)\n",
    "  train = tf.group(optimizer.minimize(loss),\n",
    "                   tf.assign_add(global_step, 1))\n",
    "  # EstimatorSpec connects subgraphs we built to the\n",
    "  # appropriate functionality.\n",
    "  return tf.estimator.EstimatorSpec(\n",
    "      mode=mode,\n",
    "      predictions=y,\n",
    "      loss=loss,\n",
    "      train_op=train)\n",
    "\n",
    "estimator = tf.estimator.Estimator(model_fn=model_fn)\n",
    "# define our data sets\n",
    "x_train = np.array([1., 2., 3., 4.])\n",
    "y_train = np.array([0., -1., -2., -3.])\n",
    "x_eval = np.array([2., 5., 8., 1.])\n",
    "y_eval = np.array([-1.01, -4.1, -7., 0.])\n",
    "input_fn = tf.estimator.inputs.numpy_input_fn(\n",
    "    {\"x\": x_train}, y_train, batch_size=4, num_epochs=None, shuffle=True)\n",
    "train_input_fn = tf.estimator.inputs.numpy_input_fn(\n",
    "    {\"x\": x_train}, y_train, batch_size=4, num_epochs=1000, shuffle=False)\n",
    "eval_input_fn = tf.estimator.inputs.numpy_input_fn(\n",
    "    {\"x\": x_eval}, y_eval, batch_size=4, num_epochs=1000, shuffle=False)\n",
    "\n",
    "# train\n",
    "estimator.train(input_fn=input_fn, steps=1000)\n",
    "# Here we evaluate how well our model did.\n",
    "train_metrics = estimator.evaluate(input_fn=train_input_fn)\n",
    "eval_metrics = estimator.evaluate(input_fn=eval_input_fn)\n",
    "print(\"train metrics: %r\"% train_metrics)\n",
    "print(\"eval metrics: %r\"% eval_metrics)"
   ]
  },
  {
   "cell_type": "code",
   "execution_count": null,
   "metadata": {
    "collapsed": true
   },
   "outputs": [],
   "source": []
  }
 ],
 "metadata": {
  "kernelspec": {
   "display_name": "Python 3",
   "language": "python",
   "name": "python3"
  },
  "language_info": {
   "codemirror_mode": {
    "name": "ipython",
    "version": 3
   },
   "file_extension": ".py",
   "mimetype": "text/x-python",
   "name": "python",
   "nbconvert_exporter": "python",
   "pygments_lexer": "ipython3",
   "version": "3.5.2"
  }
 },
 "nbformat": 4,
 "nbformat_minor": 2
}
